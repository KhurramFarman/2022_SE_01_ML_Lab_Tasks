{
 "cells": [
  {
   "cell_type": "markdown",
   "id": "8f57e0b7",
   "metadata": {},
   "source": [
    "# Logistic Regression"
   ]
  },
  {
   "cell_type": "code",
   "execution_count": 3,
   "id": "d80a2947",
   "metadata": {},
   "outputs": [
    {
     "ename": "ModuleNotFoundError",
     "evalue": "No module named 'pandas'",
     "output_type": "error",
     "traceback": [
      "\u001b[1;31m---------------------------------------------------------------------------\u001b[0m",
      "\u001b[1;31mModuleNotFoundError\u001b[0m                       Traceback (most recent call last)",
      "Cell \u001b[1;32mIn[3], line 1\u001b[0m\n\u001b[1;32m----> 1\u001b[0m \u001b[38;5;28;01mimport\u001b[39;00m\u001b[38;5;250m \u001b[39m\u001b[38;5;21;01mpandas\u001b[39;00m\u001b[38;5;250m \u001b[39m\u001b[38;5;28;01mas\u001b[39;00m\u001b[38;5;250m \u001b[39m\u001b[38;5;21;01mpd\u001b[39;00m\n\u001b[0;32m      2\u001b[0m \u001b[38;5;28;01mimport\u001b[39;00m\u001b[38;5;250m \u001b[39m\u001b[38;5;21;01mnumpy\u001b[39;00m\u001b[38;5;250m \u001b[39m\u001b[38;5;28;01mas\u001b[39;00m\u001b[38;5;250m \u001b[39m\u001b[38;5;21;01mnp\u001b[39;00m\n\u001b[0;32m      3\u001b[0m \u001b[38;5;28;01mimport\u001b[39;00m\u001b[38;5;250m \u001b[39m\u001b[38;5;21;01mmatplotlib\u001b[39;00m\u001b[38;5;21;01m.\u001b[39;00m\u001b[38;5;21;01mpyplot\u001b[39;00m\u001b[38;5;250m \u001b[39m\u001b[38;5;28;01mas\u001b[39;00m\u001b[38;5;250m \u001b[39m\u001b[38;5;21;01mplt\u001b[39;00m\n",
      "\u001b[1;31mModuleNotFoundError\u001b[0m: No module named 'pandas'"
     ]
    }
   ],
   "source": [
    "import pandas as pd\n",
    "import numpy as np\n",
    "import matplotlib.pyplot as plt\n",
    "import seaborn as sns\n",
    "import warnings\n",
    "warnings.filterwarnings('ignore')"
   ]
  },
  {
   "cell_type": "code",
   "execution_count": null,
   "id": "61145b72",
   "metadata": {},
   "outputs": [],
   "source": [
    "from sklearn.linear_model import LogisticRegression\n",
    "from sklearn.model_selection import train_test_split\n",
    "from sklearn.metrics import confusion_matrix, classification_report\n",
    "from sklearn.preprocessing import MinMaxScaler \n",
    "from sklearn.preprocessing import LabelEncoder"
   ]
  },
  {
   "cell_type": "code",
   "execution_count": null,
   "id": "6ce9b4cf",
   "metadata": {},
   "outputs": [],
   "source": [
    "df = pd.read_csv('loan_data.csv')\n",
    "df.head()"
   ]
  },
  {
   "cell_type": "markdown",
   "id": "29e871e4",
   "metadata": {},
   "source": [
    "# Data Pre-Processing"
   ]
  },
  {
   "cell_type": "code",
   "execution_count": null,
   "id": "a0ecf568",
   "metadata": {},
   "outputs": [],
   "source": [
    "df.describe()"
   ]
  },
  {
   "cell_type": "markdown",
   "id": "e68321c7",
   "metadata": {},
   "source": [
    "## 1. Handling NAN Values:"
   ]
  },
  {
   "cell_type": "code",
   "execution_count": null,
   "id": "af589244",
   "metadata": {},
   "outputs": [],
   "source": [
    "df.info()"
   ]
  },
  {
   "cell_type": "code",
   "execution_count": null,
   "id": "a281e69e",
   "metadata": {},
   "outputs": [],
   "source": [
    "plt.figure(figsize=(10,6))\n",
    "sns.heatmap(df.isnull(), cmap='viridis', cbar=False)\n",
    "plt.title('Missing Values Heatmap')\n",
    "plt.show()\n",
    "\n",
    "# There are no NAN values in the Dataset"
   ]
  },
  {
   "cell_type": "markdown",
   "id": "4e7efe27",
   "metadata": {},
   "source": [
    "# 2. Label Encoding:"
   ]
  },
  {
   "cell_type": "code",
   "execution_count": 44,
   "id": "d4ad9b8c",
   "metadata": {},
   "outputs": [],
   "source": [
    "categorical_features = ['person_gender', 'person_education', 'person_home_ownership', 'loan_intent', 'previous_loan_defaults_on_file']"
   ]
  },
  {
   "cell_type": "code",
   "execution_count": 45,
   "id": "43702118",
   "metadata": {},
   "outputs": [],
   "source": [
    "label_encoder = LabelEncoder()\n",
    "\n",
    "for col in categorical_features:\n",
    "    df[col] = label_encoder.fit_transform(df[col])"
   ]
  },
  {
   "cell_type": "code",
   "execution_count": null,
   "id": "8997c9d0",
   "metadata": {},
   "outputs": [],
   "source": [
    "for col in categorical_features:\n",
    "    print(df[col].unique())"
   ]
  },
  {
   "cell_type": "markdown",
   "id": "6c0131d8",
   "metadata": {},
   "source": [
    "# 3. Handling Outliers:"
   ]
  },
  {
   "cell_type": "code",
   "execution_count": null,
   "id": "97a6863f",
   "metadata": {},
   "outputs": [],
   "source": [
    "# plt.figure(figsize=(10,8))\n",
    "# sns.boxplot(data=df, color='lightblue')\n",
    "# plt.title('Boxplot')\n",
    "# plt.xticks(rotation=45)\n",
    "# plt.show()\n",
    "\n",
    "for graph in df:\n",
    "    plt.figure(figsize=(8,6))\n",
    "    sns.boxplot(data=df[graph], color='lightblue')\n",
    "    plt.title(graph)\n",
    "    plt.xticks(rotation=45)\n",
    "    plt.show()"
   ]
  },
  {
   "cell_type": "code",
   "execution_count": 48,
   "id": "1c4e3077",
   "metadata": {},
   "outputs": [],
   "source": [
    "outlier_features =  ['person_age', 'person_income', 'person_emp_exp', 'loan_amnt', 'loan_percent_income', 'cb_person_cred_hist_length', 'credit_score']"
   ]
  },
  {
   "cell_type": "code",
   "execution_count": 49,
   "id": "c83bf88b",
   "metadata": {},
   "outputs": [],
   "source": [
    "for feature in outlier_features:\n",
    "    Q1 = df[feature].quantile(0.25)  # First quartile\n",
    "    Q3 = df[feature].quantile(0.75)  # Third quartile\n",
    "    IQR = Q3 - Q1  # Interquartile range\n",
    "    lower_whisker = Q1 - 1.5 * IQR\n",
    "    upper_whisker = Q3 + 1.5 * IQR\n",
    "    median = df[feature].median()\n",
    "    \n",
    "    # Replace values outside the whiskers with the median\n",
    "    df[feature] = df[feature].apply(lambda x: median if x > upper_whisker or x < lower_whisker else x)\n"
   ]
  },
  {
   "cell_type": "code",
   "execution_count": null,
   "id": "1baed4be",
   "metadata": {},
   "outputs": [],
   "source": [
    "outliers = df[(df[feature] < lower_whisker) | (df[feature] > upper_whisker)]\n",
    "print(f\"{feature}: {len(outliers)} outliers\")"
   ]
  },
  {
   "cell_type": "code",
   "execution_count": null,
   "id": "0791d4b6",
   "metadata": {},
   "outputs": [],
   "source": [
    "for graph in df:\n",
    "    plt.figure(figsize=(8,6))\n",
    "    sns.boxplot(data=df[graph], color='lightblue')\n",
    "    plt.title(graph)\n",
    "    plt.xticks(rotation=45)\n",
    "    plt.show()"
   ]
  },
  {
   "cell_type": "markdown",
   "id": "77c80d05",
   "metadata": {},
   "source": [
    "## 4. Scaling Data:"
   ]
  },
  {
   "cell_type": "code",
   "execution_count": 52,
   "id": "78a9b65b",
   "metadata": {},
   "outputs": [],
   "source": [
    "#  Split Data into Features (X) and Target (y) \n",
    "\n",
    "X = df.drop(columns=['loan_status'])\n",
    "y = df[['loan_status']]"
   ]
  },
  {
   "cell_type": "code",
   "execution_count": 53,
   "id": "f7f2dfab",
   "metadata": {},
   "outputs": [],
   "source": [
    "#  Scaling Data\n",
    "\n",
    "scaler = MinMaxScaler()\n",
    "X = scaler.fit_transform(X)\n",
    "y = scaler.fit_transform(y)"
   ]
  },
  {
   "cell_type": "code",
   "execution_count": 54,
   "id": "88b41102",
   "metadata": {},
   "outputs": [],
   "source": [
    "# Split Data for Training and Testing\n",
    "\n",
    "X_train,X_test,y_train,y_test = train_test_split(X,y,test_size=0.2,random_state=0)"
   ]
  },
  {
   "cell_type": "code",
   "execution_count": 55,
   "id": "1622830a",
   "metadata": {},
   "outputs": [],
   "source": [
    "# Model Selection\n",
    "\n",
    "model = LogisticRegression()"
   ]
  },
  {
   "cell_type": "code",
   "execution_count": null,
   "id": "ab62a161",
   "metadata": {},
   "outputs": [],
   "source": [
    "# Train Logistic Regression Model\n",
    "\n",
    "model.fit(X_train,y_train)"
   ]
  },
  {
   "cell_type": "code",
   "execution_count": null,
   "id": "a4dc35c4",
   "metadata": {},
   "outputs": [],
   "source": [
    "# Check Model Coefficients\n",
    "\n",
    "model.coef_"
   ]
  },
  {
   "cell_type": "code",
   "execution_count": null,
   "id": "9059c2d0",
   "metadata": {},
   "outputs": [],
   "source": [
    "# Check Model Intercept\n",
    "\n",
    "model.intercept_"
   ]
  },
  {
   "cell_type": "code",
   "execution_count": null,
   "id": "ca3bcb5f",
   "metadata": {},
   "outputs": [],
   "source": [
    "# Evaluate Model Performance\n",
    "\n",
    "model.score(X_test, y_test)"
   ]
  },
  {
   "cell_type": "code",
   "execution_count": null,
   "id": "248b6a5a",
   "metadata": {},
   "outputs": [],
   "source": [
    "y_test"
   ]
  },
  {
   "cell_type": "code",
   "execution_count": 61,
   "id": "e848a501",
   "metadata": {},
   "outputs": [],
   "source": [
    "# Making Predictions\n",
    "\n",
    "y_predict = model.predict(X_test)"
   ]
  },
  {
   "cell_type": "code",
   "execution_count": null,
   "id": "6316ef96",
   "metadata": {},
   "outputs": [],
   "source": [
    "y_predict"
   ]
  },
  {
   "cell_type": "code",
   "execution_count": 63,
   "id": "560e4a70",
   "metadata": {},
   "outputs": [],
   "source": [
    "# Get probabilities for each class\n",
    "probabilities = model.predict_proba(X_test)"
   ]
  },
  {
   "cell_type": "code",
   "execution_count": null,
   "id": "a038c98e",
   "metadata": {},
   "outputs": [],
   "source": [
    "probabilities"
   ]
  },
  {
   "cell_type": "code",
   "execution_count": 65,
   "id": "1b6abd21",
   "metadata": {},
   "outputs": [],
   "source": [
    "# Evaluate Predictions\n",
    "\n",
    "report  = classification_report(y_test, y_predict)"
   ]
  },
  {
   "cell_type": "code",
   "execution_count": null,
   "id": "810e9124",
   "metadata": {},
   "outputs": [],
   "source": [
    "print(report)"
   ]
  },
  {
   "cell_type": "code",
   "execution_count": null,
   "id": "ebdb26cb",
   "metadata": {},
   "outputs": [],
   "source": [
    "confusion_matrix(y_test, y_predict)"
   ]
  },
  {
   "cell_type": "code",
   "execution_count": null,
   "id": "3caa3316",
   "metadata": {},
   "outputs": [],
   "source": [
    "import seaborn as sns\n",
    "import matplotlib.pyplot as plt\n",
    "\n",
    "cm = confusion_matrix(y_test, y_predict)\n",
    "sns.heatmap(cm, annot=True, fmt='d', cmap='Blues', xticklabels=['Class 0', 'Class 1'], yticklabels=['Class 0', 'Class 1'])\n",
    "plt.xlabel('Predicted')\n",
    "plt.ylabel('Actual')\n",
    "plt.title('Confusion Matrix')\n",
    "plt.show()"
   ]
  },
  {
   "cell_type": "markdown",
   "id": "41ccb838",
   "metadata": {},
   "source": [
    "# Accuracy"
   ]
  },
  {
   "cell_type": "code",
   "execution_count": null,
   "id": "b972338a",
   "metadata": {},
   "outputs": [],
   "source": [
    "Accuracy = (6506+1446)/(6506+1446+505+543)\n",
    "print(f'Accuracy : {Accuracy}')"
   ]
  },
  {
   "cell_type": "markdown",
   "id": "5f80cf32",
   "metadata": {},
   "source": [
    "# Precision"
   ]
  },
  {
   "cell_type": "code",
   "execution_count": null,
   "id": "ca24b6a0",
   "metadata": {},
   "outputs": [],
   "source": [
    "# Class 0\n",
    "precision_0 = 6506/(6506+505)\n",
    "print(f'Precision of Class 0 : {precision_0}')"
   ]
  },
  {
   "cell_type": "code",
   "execution_count": null,
   "id": "c900a20d",
   "metadata": {},
   "outputs": [],
   "source": [
    "# Class 1\n",
    "precision_1 = 1446/(1446+505)\n",
    "print(f'Precision of Class 0 : {precision_1}')"
   ]
  },
  {
   "cell_type": "markdown",
   "id": "8dbf2427",
   "metadata": {},
   "source": [
    "# Recall"
   ]
  },
  {
   "cell_type": "code",
   "execution_count": null,
   "id": "09e5f579",
   "metadata": {},
   "outputs": [],
   "source": [
    "# Class 0\n",
    "Recall_0 = 6506/(6506+543)\n",
    "print(f'Recall of Class 0 : {Recall_0}')"
   ]
  },
  {
   "cell_type": "code",
   "execution_count": null,
   "id": "10260fde",
   "metadata": {},
   "outputs": [],
   "source": [
    "# Class 1\n",
    "Recall_1 = 1446/(1446+543)\n",
    "print(f'Recall of Class 0 : {Recall_1}')"
   ]
  }
 ],
 "metadata": {
  "kernelspec": {
   "display_name": "Python 3",
   "language": "python",
   "name": "python3"
  },
  "language_info": {
   "codemirror_mode": {
    "name": "ipython",
    "version": 3
   },
   "file_extension": ".py",
   "mimetype": "text/x-python",
   "name": "python",
   "nbconvert_exporter": "python",
   "pygments_lexer": "ipython3",
   "version": "3.12.5"
  }
 },
 "nbformat": 4,
 "nbformat_minor": 5
}
