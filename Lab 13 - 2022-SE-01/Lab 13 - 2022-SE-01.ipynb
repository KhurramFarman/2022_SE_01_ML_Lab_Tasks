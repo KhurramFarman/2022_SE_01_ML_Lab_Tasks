{
 "cells": [
  {
   "cell_type": "markdown",
   "metadata": {},
   "source": [
    "# Lab 13 - SNN"
   ]
  },
  {
   "cell_type": "code",
   "execution_count": 1,
   "metadata": {
    "id": "nf3lpSSwjN9y"
   },
   "outputs": [],
   "source": [
    "import numpy as np"
   ]
  },
  {
   "cell_type": "code",
   "execution_count": 2,
   "metadata": {
    "id": "rG7IWsgrjTRb"
   },
   "outputs": [],
   "source": [
    "def step_function(x):\n",
    "    return 1 if x >= 0 else 0"
   ]
  },
  {
   "cell_type": "code",
   "execution_count": 3,
   "metadata": {
    "id": "aaniEpN4jczf"
   },
   "outputs": [],
   "source": [
    "# Perceptron Training Function\n",
    "def train_perceptron(X, y, learning_rate=0.1, epochs=10):\n",
    "    num_features = X.shape[1]  # Number of input features (columns)\n",
    "    weights = np.zeros(num_features + 1)  # Initialize weights (including bias) with 0\n",
    "    print(\"Initial Weights:\", weights)\n",
    "\n",
    "    # Training Loop\n",
    "    for epoch in range(epochs):\n",
    "        total_error = 0  # Track errors in this epoch\n",
    "        for i in range(len(X)):\n",
    "            x_with_bias = np.insert(X[i], 0, 1)  # Add bias term (1 at index 0)\n",
    "            weighted_sum = np.dot(weights, x_with_bias)  # Compute weighted sum\n",
    "            y_pred = step_function(weighted_sum)  # Apply Step Activation Function\n",
    "            error = y[i] - y_pred  # Compute error\n",
    "            total_error += abs(error)  # Accumulate total error\n",
    "\n",
    "            # Update Weights: w = w + η(y_true - y_pred) * x\n",
    "            weights += learning_rate * error * x_with_bias\n",
    "\n",
    "        print(f\"Epoch {epoch+1}: Weights = {weights}, Total Error = {total_error}\")\n",
    "\n",
    "        if total_error == 0:\n",
    "            break  # Stop early if no errors\n",
    "\n",
    "    return weights  # Return trained weights"
   ]
  },
  {
   "cell_type": "code",
   "execution_count": 4,
   "metadata": {
    "id": "t6VJJ_gujn8_"
   },
   "outputs": [],
   "source": [
    "# Prediction Function\n",
    "def predict(X, weights):\n",
    "    predictions = []\n",
    "    for i in range(len(X)):\n",
    "        x_with_bias = np.insert(X[i], 0, 1)  # Add bias term\n",
    "        weighted_sum = np.dot(weights, x_with_bias)  # Compute weighted sum\n",
    "        y_pred = step_function(weighted_sum)  # Apply Step Activation Function\n",
    "        predictions.append(y_pred)\n",
    "    return predictions"
   ]
  },
  {
   "cell_type": "code",
   "execution_count": 5,
   "metadata": {
    "id": "VwD6fsuujrOu"
   },
   "outputs": [],
   "source": [
    "# OR Gate Dataset\n",
    "X = np.array([\n",
    "    [0, 0, 0],\n",
    "    [0, 0, 1], \n",
    "    [0, 1, 0],\n",
    "    [0, 1, 1],\n",
    "    [1, 0, 0],\n",
    "    [1, 0, 1],\n",
    "    [1, 1, 0],\n",
    "    [1, 1, 1] \n",
    "])\n",
    "y = np.array([0, 1, 1, 1, 1, 1, 1, 1]) "
   ]
  },
  {
   "cell_type": "code",
   "execution_count": 6,
   "metadata": {
    "colab": {
     "base_uri": "https://localhost:8080/"
    },
    "id": "ti3ugVaHjxwf",
    "outputId": "36263d50-8f58-4a75-b0c1-32efe71fd511"
   },
   "outputs": [
    {
     "name": "stdout",
     "output_type": "stream",
     "text": [
      "Initial Weights: [0. 0. 0. 0.]\n",
      "Epoch 1: Weights = [0.  0.  0.  0.1], Total Error = 2\n",
      "Epoch 2: Weights = [0.  0.  0.1 0.1], Total Error = 2\n",
      "Epoch 3: Weights = [0.  0.1 0.1 0.1], Total Error = 2\n",
      "Epoch 4: Weights = [-0.1  0.1  0.1  0.1], Total Error = 1\n",
      "Epoch 5: Weights = [-0.1  0.1  0.1  0.1], Total Error = 0\n",
      "\n",
      "Final Predictions:\n",
      "Input: [0 0 0], Predicted: 0, Actual: 0\n",
      "Input: [0 0 1], Predicted: 1, Actual: 1\n",
      "Input: [0 1 0], Predicted: 1, Actual: 1\n",
      "Input: [0 1 1], Predicted: 1, Actual: 1\n",
      "Input: [1 0 0], Predicted: 1, Actual: 1\n",
      "Input: [1 0 1], Predicted: 1, Actual: 1\n",
      "Input: [1 1 0], Predicted: 1, Actual: 1\n",
      "Input: [1 1 1], Predicted: 1, Actual: 1\n"
     ]
    }
   ],
   "source": [
    "weights = train_perceptron(X, y)\n",
    "\n",
    "# Test Perceptron\n",
    "predictions = predict(X, weights)\n",
    "print(\"\\nFinal Predictions:\")\n",
    "for i in range(len(X)):\n",
    "    print(f\"Input: {X[i]}, Predicted: {predictions[i]}, Actual: {y[i]}\")"
   ]
  }
 ],
 "metadata": {
  "colab": {
   "provenance": []
  },
  "kernelspec": {
   "display_name": "Python 3 (ipykernel)",
   "language": "python",
   "name": "python3"
  },
  "language_info": {
   "codemirror_mode": {
    "name": "ipython",
    "version": 3
   },
   "file_extension": ".py",
   "mimetype": "text/x-python",
   "name": "python",
   "nbconvert_exporter": "python",
   "pygments_lexer": "ipython3",
   "version": "3.9.13"
  }
 },
 "nbformat": 4,
 "nbformat_minor": 1
}
